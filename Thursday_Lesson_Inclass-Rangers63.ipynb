{
 "cells": [
  {
   "cell_type": "markdown",
   "metadata": {},
   "source": [
    "# Object-Oriented-Programming (OOP)"
   ]
  },
  {
   "cell_type": "markdown",
   "metadata": {},
   "source": [
    "## Tasks Today:\n",
    "\n",
    "   \n",
    "\n",
    "1) <b>Creating a Class (Initializing/Declaring)</b> <br>\n",
    "2) <b>Using a Class (Instantiating)</b> <br>\n",
    " &nbsp;&nbsp;&nbsp;&nbsp; a) Creating One Instance <br>\n",
    " &nbsp;&nbsp;&nbsp;&nbsp; b) Creating Multiple Instances <br>\n",
    " &nbsp;&nbsp;&nbsp;&nbsp; c) In-Class Exercise #1 - Create a Class 'Car' and instantiate three different makes of cars <br>\n",
    "3) <b>The \\__init\\__() Method</b> <br>\n",
    " &nbsp;&nbsp;&nbsp;&nbsp; a) The 'self' Attribute <br>\n",
    "4) <b>Class Attributes</b> <br>\n",
    " &nbsp;&nbsp;&nbsp;&nbsp; a) Initializing Attributes <br>\n",
    " &nbsp;&nbsp;&nbsp;&nbsp; b) Setting an Attribute Outside of the \\__init\\__() Method <br>\n",
    " &nbsp;&nbsp;&nbsp;&nbsp; c) Setting Defaults for Attributes <br>\n",
    " &nbsp;&nbsp;&nbsp;&nbsp; d) Accessing Class Attributes <br>\n",
    " &nbsp;&nbsp;&nbsp;&nbsp; e) Changing Class Attributes <br>\n",
    " &nbsp;&nbsp;&nbsp;&nbsp; f) In-Class Exercise #2 - Add a color and wheels attribute to your 'Car' class <br>\n",
    "5) <b>Class Methods</b> <br>\n",
    " &nbsp;&nbsp;&nbsp;&nbsp; a) Creating <br>\n",
    " &nbsp;&nbsp;&nbsp;&nbsp; b) Calling <br>\n",
    " &nbsp;&nbsp;&nbsp;&nbsp; c) Modifying an Attribute's Value Through a Method <br>\n",
    " &nbsp;&nbsp;&nbsp;&nbsp; d) Incrementing an Attribute's Value Through a Method <br>\n",
    " &nbsp;&nbsp;&nbsp;&nbsp; e) In-Class Exercise #3 - Add a method that prints the cars color and wheel number, then call them <br>\n",
    "6) <b>Inheritance</b> <br>\n",
    " &nbsp;&nbsp;&nbsp;&nbsp; a) Syntax for Inheriting from a Parent Class <br>\n",
    " &nbsp;&nbsp;&nbsp;&nbsp; b) The \\__init\\__() Method for a Child Class (super()) <br>\n",
    " &nbsp;&nbsp;&nbsp;&nbsp; c) Defining Attributes and Methods for the Child Class <br>\n",
    " &nbsp;&nbsp;&nbsp;&nbsp; d) Method Overriding <br>\n",
    " &nbsp;&nbsp;&nbsp;&nbsp; e) In-Class Exercise #4 - Create a class 'Ford' that inherits from 'Car' class and initialize it as a Blue Ford Explorer with 4 wheels using the super() method <br>\n",
    "7) <b>Classes as Attributes</b> <br>\n",
    "8) <b>Exercises</b> <br>\n",
    " &nbsp;&nbsp;&nbsp;&nbsp; a) Exercise #1 - Turn the shopping cart program from yesterday into an object-oriented program <br>"
   ]
  },
  {
   "cell_type": "markdown",
   "metadata": {},
   "source": [
    "## Creating a Class (Initializing/Declaring)\n",
    "<p>When creating a class, function, or even a variable you are initializing that object. Initializing and Declaring occur at the same time in Python, whereas in lower level languages you have to declare an object before initializing it. This is the first step in the process of using a class.</p>"
   ]
  },
  {
   "cell_type": "code",
   "execution_count": 1,
   "metadata": {},
   "outputs": [],
   "source": [
    "class Car(): # Class names use PascalCase ThisIsALongPascalCaseSentence\n",
    "    wheels = 4             # Class Attributes\n",
    "    color = 'blue'         # Class Attributes "
   ]
  },
  {
   "cell_type": "markdown",
   "metadata": {},
   "source": [
    "## Using a Class (Instantiating)\n",
    "<p>The process of creating a class is called <i>Instantiating</i>. Each time you create a variable of that type of class, it is referred to as an <i>Instance</i> of that class. This is the second step in the process of using a class.</p>"
   ]
  },
  {
   "cell_type": "markdown",
   "metadata": {},
   "source": [
    "##### Creating One Instance"
   ]
  },
  {
   "cell_type": "code",
   "execution_count": 2,
   "metadata": {},
   "outputs": [],
   "source": [
    "ford = Car()"
   ]
  },
  {
   "cell_type": "markdown",
   "metadata": {},
   "source": [
    "##### Creating Multiple Instances"
   ]
  },
  {
   "cell_type": "code",
   "execution_count": 3,
   "metadata": {},
   "outputs": [],
   "source": [
    "class Car():\n",
    "    wheels = 4\n",
    "    color = 'red'\n",
    "    doors = 4\n",
    "    transmission = 'stick'"
   ]
  },
  {
   "cell_type": "code",
   "execution_count": 4,
   "metadata": {},
   "outputs": [],
   "source": [
    "subaru = Car()\n",
    "chevy = Car()\n",
    "ford = Car()\n",
    "toyota = Car()"
   ]
  },
  {
   "cell_type": "code",
   "execution_count": 5,
   "metadata": {},
   "outputs": [
    {
     "name": "stdout",
     "output_type": "stream",
     "text": [
      "4\n",
      "red\n",
      "4\n",
      "stick\n"
     ]
    }
   ],
   "source": [
    "print(subaru.wheels)\n",
    "print(chevy.color)\n",
    "print(ford.doors)\n",
    "print(toyota.transmission)"
   ]
  },
  {
   "cell_type": "markdown",
   "metadata": {},
   "source": [
    "##### In-Class Exercise #1 - Create a Class 'Car' and Instantiate three different makes of cars"
   ]
  },
  {
   "cell_type": "code",
   "execution_count": null,
   "metadata": {},
   "outputs": [],
   "source": []
  },
  {
   "cell_type": "markdown",
   "metadata": {},
   "source": [
    "## The \\__init\\__() Method <br>\n",
    "<p>This method is used in almost every created class, and called only once upon the creation of the class instance. This method will initialize all variables needed for the object.</p>"
   ]
  },
  {
   "cell_type": "code",
   "execution_count": 6,
   "metadata": {},
   "outputs": [
    {
     "name": "stdout",
     "output_type": "stream",
     "text": [
      "4\n",
      "3\n",
      "4.7L\n",
      "4.7L\n",
      "green\n",
      "red\n",
      "green\n",
      "4.7L\n",
      "3\n",
      "==========\n",
      "green\n",
      "4.7L\n",
      "3\n",
      "==========\n"
     ]
    }
   ],
   "source": [
    "class Car():\n",
    "    engine = \"4.7L\"    # Class Attribute\n",
    "    \n",
    "    # Constuctor (Constructs an instance of your class)\n",
    "    def __init__(self, color, num_of_wheels=4):\n",
    "        self.wheels = num_of_wheels # Instance Attributes\n",
    "        self.color = color # instance Attributes\n",
    "        \n",
    "ford = Car(\"red\")\n",
    "trike = Car(\"green\", 3)\n",
    "\n",
    "print(ford.wheels)\n",
    "print(trike.wheels)\n",
    "\n",
    "print(ford.engine)\n",
    "print(trike.engine)\n",
    "\n",
    "print(trike.color)\n",
    "print(ford.color)\n",
    "\n",
    "my_car = [ford, trike]\n",
    "\n",
    "for car in my_car:\n",
    "    print(trike.color)\n",
    "    print(ford.engine)\n",
    "    print(trike.wheels)\n",
    "    print(\"==========\")\n",
    "    "
   ]
  },
  {
   "cell_type": "markdown",
   "metadata": {},
   "source": [
    "##### The 'self' Attribute <br>\n",
    "<p>This attribute is required to keep track of specific instance's attributes. Without the self attribute, the program would not know how to reference or keep track of an instance's attributes.</p>"
   ]
  },
  {
   "cell_type": "code",
   "execution_count": 7,
   "metadata": {},
   "outputs": [],
   "source": [
    "# see above"
   ]
  },
  {
   "cell_type": "markdown",
   "metadata": {},
   "source": [
    "## Class Attributes <br>\n",
    "<p>While variables are inside of a class, they are referred to as attributes and not variables. When someone says 'attribute' you know they're speaking about a class. Attributes can be initialized through the init method, or outside of it.</p>"
   ]
  },
  {
   "cell_type": "markdown",
   "metadata": {},
   "source": [
    "##### Initializing Attributes"
   ]
  },
  {
   "cell_type": "code",
   "execution_count": 8,
   "metadata": {},
   "outputs": [],
   "source": [
    "# see above"
   ]
  },
  {
   "cell_type": "markdown",
   "metadata": {},
   "source": [
    "##### Accessing Class Attributes"
   ]
  },
  {
   "cell_type": "code",
   "execution_count": 9,
   "metadata": {
    "scrolled": true
   },
   "outputs": [],
   "source": [
    "# See Above"
   ]
  },
  {
   "cell_type": "markdown",
   "metadata": {},
   "source": [
    "##### Setting Defaults for Attributes"
   ]
  },
  {
   "cell_type": "code",
   "execution_count": null,
   "metadata": {},
   "outputs": [],
   "source": []
  },
  {
   "cell_type": "markdown",
   "metadata": {},
   "source": [
    "##### Changing Class Attributes <br>\n",
    "<p>Keep in mind there are global class attributes and then there are attributes only available to each class instance which won't effect other classes.</p>"
   ]
  },
  {
   "cell_type": "code",
   "execution_count": 10,
   "metadata": {},
   "outputs": [
    {
     "name": "stdout",
     "output_type": "stream",
     "text": [
      "2.0L\n",
      "4.7L\n",
      "4.7L\n"
     ]
    }
   ],
   "source": [
    "ford = Car(\"red\")\n",
    "trike = Car(\"green\", 3)\n",
    "\n",
    "\n",
    "trike.engine = \"2.0L\"\n",
    "print(trike.engine)\n",
    "print(ford.engine)\n",
    "\n",
    "new_car = Car(\"yellow\")\n",
    "print(new_car.engine)"
   ]
  },
  {
   "cell_type": "code",
   "execution_count": null,
   "metadata": {},
   "outputs": [],
   "source": []
  },
  {
   "cell_type": "markdown",
   "metadata": {},
   "source": [
    "##### In-Class Exercise #2 - Add a doors and seats attribute to your 'Car' class then print out two different instances with different doors and seats"
   ]
  },
  {
   "cell_type": "code",
   "execution_count": 11,
   "metadata": {},
   "outputs": [
    {
     "name": "stdout",
     "output_type": "stream",
     "text": [
      "4\n",
      "4\n",
      "5\n",
      "5\n",
      "2\n",
      "5\n",
      "5\n",
      "4\n"
     ]
    }
   ],
   "source": [
    "class Car():\n",
    "    wheels = 4\n",
    "    color = 'red'\n",
    "    doors = 4\n",
    "    transmission = 'stick'\n",
    "    seats = 5\n",
    "\n",
    "    \n",
    "subaru = Car()\n",
    "chevy = Car()\n",
    "ford = Car()\n",
    "toyota = Car()\n",
    "\n",
    "print(subaru.doors)\n",
    "print(chevy.doors)\n",
    "print(ford.seats)\n",
    "print(toyota.seats)\n",
    "chevy.seats = 2\n",
    "ford.doors = 5\n",
    "print(chevy.seats)\n",
    "print(subaru.seats)\n",
    "print(ford.doors)\n",
    "print(chevy.doors)\n"
   ]
  },
  {
   "cell_type": "markdown",
   "metadata": {},
   "source": [
    "## Class Methods <br>\n",
    "<p>While inside of a class, functions are referred to as 'methods'. If you hear someone mention methods, they're speaking about classes. Methods are essentially functions, but only callable on the instances of a class.</p>"
   ]
  },
  {
   "cell_type": "markdown",
   "metadata": {},
   "source": [
    "##### Creating"
   ]
  },
  {
   "cell_type": "code",
   "execution_count": 12,
   "metadata": {},
   "outputs": [],
   "source": [
    "class Car():\n",
    "    def __init__(self, wheels, color, seats):\n",
    "        self.wheels = wheels\n",
    "        self.color = color\n",
    "        self.seats = seats\n",
    "        self.has_sunroof = False\n",
    "        \n",
    "    \n",
    "    def drive(self):\n",
    "        print(\"VROOOOOOOOOOM!!!!!\")\n",
    "    \n",
    "    \n",
    "    def describe(self):\n",
    "        print(f\" the car is {self.color} with {self.seats} seats and {self.wheels} wheels\")\n",
    "        \n",
    "    def set_color(self, new_color):\n",
    "        self.color=new_color.lower()\n",
    "        \n",
    "    def get_color(self):\n",
    "        return self.color\n",
    "    \n",
    "    def add_seats(self):\n",
    "        self.seats+=1\n",
    "        \n",
    "        "
   ]
  },
  {
   "cell_type": "code",
   "execution_count": 13,
   "metadata": {
    "scrolled": false
   },
   "outputs": [
    {
     "name": "stdout",
     "output_type": "stream",
     "text": [
      "['__class__', '__delattr__', '__dict__', '__dir__', '__doc__', '__eq__', '__format__', '__ge__', '__getattribute__', '__gt__', '__hash__', '__init__', '__init_subclass__', '__le__', '__lt__', '__module__', '__ne__', '__new__', '__reduce__', '__reduce_ex__', '__repr__', '__setattr__', '__sizeof__', '__str__', '__subclasshook__', '__weakref__', 'add_seats', 'color', 'describe', 'drive', 'get_color', 'has_sunroof', 'seats', 'set_color', 'wheels']\n",
      "{'wheels': 4, 'color': 'red', 'seats': 8, 'has_sunroof': False}\n"
     ]
    }
   ],
   "source": [
    "chevy = Car(4, \"red\", 8)\n",
    "print(dir(chevy))\n",
    "print(chevy.__dict__)"
   ]
  },
  {
   "cell_type": "code",
   "execution_count": 14,
   "metadata": {
    "scrolled": true
   },
   "outputs": [
    {
     "name": "stdout",
     "output_type": "stream",
     "text": [
      "VROOOOOOOOOOM!!!!!\n",
      " the car is red with 8 seats and 4 wheels\n",
      " the car is green with 8 seats and 4 wheels\n",
      " the car is green with 9 seats and 4 wheels\n"
     ]
    }
   ],
   "source": [
    "chevy.drive()\n",
    "chevy.describe()\n",
    "chevy.set_color(\"green\")\n",
    "chevy.describe()\n",
    "chevy.add_seats()\n",
    "chevy.describe()"
   ]
  },
  {
   "cell_type": "code",
   "execution_count": 15,
   "metadata": {
    "scrolled": true
   },
   "outputs": [
    {
     "ename": "TypeError",
     "evalue": "drive() missing 1 required positional argument: 'self'",
     "output_type": "error",
     "traceback": [
      "\u001b[1;31m---------------------------------------------------------------------------\u001b[0m",
      "\u001b[1;31mTypeError\u001b[0m                                 Traceback (most recent call last)",
      "Input \u001b[1;32mIn [15]\u001b[0m, in \u001b[0;36m<cell line: 1>\u001b[1;34m()\u001b[0m\n\u001b[1;32m----> 1\u001b[0m \u001b[43mCar\u001b[49m\u001b[38;5;241;43m.\u001b[39;49m\u001b[43mdrive\u001b[49m\u001b[43m(\u001b[49m\u001b[43m)\u001b[49m\n",
      "\u001b[1;31mTypeError\u001b[0m: drive() missing 1 required positional argument: 'self'"
     ]
    }
   ],
   "source": [
    "Car.drive() # Don't work like this"
   ]
  },
  {
   "cell_type": "code",
   "execution_count": null,
   "metadata": {},
   "outputs": [],
   "source": [
    "test_car = Car(4,\"purple\", 2)\n",
    "Car.drive(test_car) #We don't write it like this but this is what is happening"
   ]
  },
  {
   "cell_type": "markdown",
   "metadata": {},
   "source": [
    "##### Calling"
   ]
  },
  {
   "cell_type": "code",
   "execution_count": null,
   "metadata": {},
   "outputs": [],
   "source": [
    "# See Above"
   ]
  },
  {
   "cell_type": "markdown",
   "metadata": {},
   "source": [
    "##### Modifying an Attribute's Value Through a Method"
   ]
  },
  {
   "cell_type": "code",
   "execution_count": null,
   "metadata": {},
   "outputs": [],
   "source": []
  },
  {
   "cell_type": "markdown",
   "metadata": {},
   "source": [
    "##### Incrementing an Attribute's Value Through a Method"
   ]
  },
  {
   "cell_type": "code",
   "execution_count": null,
   "metadata": {},
   "outputs": [],
   "source": []
  },
  {
   "cell_type": "markdown",
   "metadata": {},
   "source": [
    "##### In-Class Exercise #3 - Add a method that takes in three parameters of year, doors and seats and prints out a formatted print statement with make, model, year, seats, and doors"
   ]
  },
  {
   "cell_type": "code",
   "execution_count": 19,
   "metadata": {},
   "outputs": [
    {
     "name": "stdout",
     "output_type": "stream",
     "text": [
      "The car is from None and is a  Mazda CX-5 and has Noneand None\n",
      "The car is from 2019 and is a  Mazda CX-5 and has 4and 5\n",
      "The car is from 1991 and is a  Ford POS and has 3and 2\n",
      "Mazda CX-5 is better than Ford POS\n",
      "Mazda CX-5 is better than Ford POS\n"
     ]
    }
   ],
   "source": [
    "# Create class with 2 paramters inside of the __init__ which are make and model\n",
    "\n",
    "# Inside of the Car class create a method that has 4 parameter in total (self,year,door,seats)\n",
    "\n",
    "# Output: This car is from 2019 and is a Ford Expolorer and has 4 doors and 5 seats\n",
    "\n",
    "\n",
    "\n",
    "class Car():\n",
    "    \n",
    "    def __init__(self, make, model):\n",
    "        self.make = make\n",
    "        self.model = model\n",
    "        self.year = None\n",
    "        self.doors = None\n",
    "        self.seats = None\n",
    "        \n",
    "    def add_details(self, year, doors, s):\n",
    "        self.year = year\n",
    "        self.doors = doors\n",
    "        self.seats = s\n",
    "    \n",
    "       \n",
    "    def describe(self):\n",
    "        print(f\"The car is from {self.year} and is a  {self.make} {self.model} and has {self.doors}and {self.seats}\")\n",
    "        \n",
    "        \n",
    "    @classmethod\n",
    "    def which_is_better(cls, car1, car2):\n",
    "        if car1.year>car2.year:\n",
    "                print(f'{car1.make} {car1.model} is better than {car2.make} {car2.model}')\n",
    "        else:\n",
    "                print(f'{car1.make} {car1.model} is worse than {car2.make} {car2.model}')\n",
    "            \n",
    "        \n",
    "my_car = Car(\"Mazda\", \"CX-5\")\n",
    "my_car.describe()\n",
    "my_car.add_details(2019,4,5)\n",
    "my_car.describe()\n",
    "\n",
    "dylan_car=Car(\"Ford\", \"POS\")\n",
    "dylan_car.add_details(1991,3,2)\n",
    "dylan_car.describe()\n",
    "\n",
    "\n",
    "Car.which_is_better(my_car, dylan_car)\n",
    "\n",
    "my_car.which_is_better(my_car, dylan_car)\n"
   ]
  },
  {
   "cell_type": "markdown",
   "metadata": {},
   "source": [
    "## Inheritance <br>\n",
    "<p>You can create a child-parent relationship between two classes by using inheritance. What this allows you to do is have overriding methods, but also inherit traits from the parent class. Think of it as an actual parent and child, the child will inherit the parent's genes, as will the classes in OOP</p>"
   ]
  },
  {
   "cell_type": "markdown",
   "metadata": {},
   "source": [
    "##### Syntax for Inheriting from a Parent Class"
   ]
  },
  {
   "cell_type": "code",
   "execution_count": null,
   "metadata": {},
   "outputs": [],
   "source": []
  },
  {
   "cell_type": "markdown",
   "metadata": {},
   "source": [
    "##### The \\__init\\__() Method for a Child Class - super()"
   ]
  },
  {
   "cell_type": "code",
   "execution_count": null,
   "metadata": {
    "scrolled": true
   },
   "outputs": [],
   "source": []
  },
  {
   "cell_type": "markdown",
   "metadata": {},
   "source": [
    "##### Defining Attributes and Methods for the Child Class"
   ]
  },
  {
   "cell_type": "code",
   "execution_count": null,
   "metadata": {},
   "outputs": [],
   "source": [
    "# See Above"
   ]
  },
  {
   "cell_type": "markdown",
   "metadata": {},
   "source": [
    "##### Method Overriding"
   ]
  },
  {
   "cell_type": "code",
   "execution_count": null,
   "metadata": {},
   "outputs": [],
   "source": [
    "# See Above"
   ]
  },
  {
   "cell_type": "markdown",
   "metadata": {},
   "source": [
    "## Classes as Attributes <br>\n",
    "<p>Classes can also be used as attributes within another class. This is useful in situations where you need to keep variables locally stored, instead of globally stored.</p>"
   ]
  },
  {
   "cell_type": "code",
   "execution_count": null,
   "metadata": {},
   "outputs": [],
   "source": []
  },
  {
   "cell_type": "markdown",
   "metadata": {},
   "source": [
    "# Exercises"
   ]
  },
  {
   "cell_type": "markdown",
   "metadata": {},
   "source": [
    "### Exercise 1 - Turn the shopping cart program from yesterday into an object-oriented program\n",
    "\n",
    "The comments in the cell below are there as a guide for thinking about the problem. However, if you feel a different way is best for you and your own thought process, please do what feels best for you by all means."
   ]
  },
  {
   "cell_type": "code",
   "execution_count": 26,
   "metadata": {},
   "outputs": [
    {
     "name": "stdout",
     "output_type": "stream",
     "text": [
      "\n",
      "Welcom to the Shopping cart Program!\n",
      "\n",
      "Please select one of the following: \n",
      "1. add \n",
      "2. view \n",
      "3. delete \n",
      "4. quit: \n",
      " add\n",
      " \n",
      "To stop adding type:'quit'\n",
      "\n",
      "What would you like to add to your shopping cart?apple\n",
      "\n",
      "What would you like to add to your shopping cart?apple\n",
      "\n",
      "What would you like to add to your shopping cart?corn\n",
      "\n",
      "What would you like to add to your shopping cart?corn\n",
      "\n",
      "What would you like to add to your shopping cart?grapes\n",
      "\n",
      "What would you like to add to your shopping cart?quit\n",
      "Please select one of the following: \n",
      "1. add \n",
      "2. view \n",
      "3. delete \n",
      "4. quit: \n",
      " view\n",
      "The contents in your cart are: \n",
      "Apple [2]\n",
      "Corn [2]\n",
      "Grapes [1]\n",
      "Please select one of the following: \n",
      "1. add \n",
      "2. view \n",
      "3. delete \n",
      "4. quit: \n",
      " delete\n",
      " To stop deleting type: 'quit'\n",
      "What would you like to delete?apple\n",
      "What would you like to delete?quit\n",
      "Items removed\n",
      "Please select one of the following: \n",
      "1. add \n",
      "2. view \n",
      "3. delete \n",
      "4. quit: \n",
      " quit\n",
      "Thank you for shopping with us. Goodbye.\n"
     ]
    },
    {
     "data": {
      "text/plain": [
       "<__main__.Cart at 0x207bcfdb190>"
      ]
     },
     "execution_count": 26,
     "metadata": {},
     "output_type": "execute_result"
    }
   ],
   "source": [
    "# Create a class called cart that retains items and has methods to add, remove, and show\n",
    "class Cart():\n",
    "    def __init__(self):\n",
    "        cart= {}\n",
    "   \n",
    "        print()\n",
    "        print(\"Welcom to the Shopping cart Program!\")\n",
    "\n",
    "        print()\n",
    "\n",
    "\n",
    "        def add_item():\n",
    "            shopping = True\n",
    "            print(\" \\nTo stop adding type:'quit'\")\n",
    "            while shopping:\n",
    "                item = input(\"\\nWhat would you like to add to your shopping cart?\")\n",
    "                item = item.lower()\n",
    "                if item != \"quit\":\n",
    "                    if item not in cart:\n",
    "                        cart[item] = 1\n",
    "                    else:\n",
    "                            cart[item] += 1\n",
    "                else:\n",
    "                        shopping = False\n",
    "\n",
    "        def view_item():\n",
    "            print(\"The contents in your cart are: \")\n",
    "            for item, quant in cart.items():\n",
    "                print(f\"{item.title()} [{quant}]\")\n",
    "\n",
    "\n",
    "        def delete_item():\n",
    "            deleting = True\n",
    "            print(\" To stop deleting type: 'quit'\")\n",
    "            while deleting:\n",
    "                item = input('What would you like to delete?')\n",
    "                item = item.lower()\n",
    "                if item == 'quit':\n",
    "                    deleting= False\n",
    "                    print('Items removed')\n",
    "                else:\n",
    "                    if item not in cart:\n",
    "                        print(\"not in cart\")\n",
    "                    else:\n",
    "                        cart[item] -=1\n",
    "                        if item ==0:\n",
    "                            del cart[item]\n",
    "\n",
    "        def shopping_list():\n",
    "            shopping = True\n",
    "            while shopping:\n",
    "                do = input(\"Please select one of the following: \\n1. add \\n2. view \\n3. delete \\n4. quit: \\n \")\n",
    "                if do == 'add':\n",
    "                    add_item()\n",
    "                elif do == 'delete':\n",
    "                    delete_item()\n",
    "                elif do == 'view':\n",
    "                    view_item()\n",
    "                elif do ==  'quit':\n",
    "                    print(\"Thank you for shopping with us. Goodbye.\")\n",
    "                    shopping = False\n",
    "                    break\n",
    "\n",
    "\n",
    "        \n",
    "    \n",
    "    \n",
    "    \n",
    "Cart()\n",
    "\n",
    "    "
   ]
  },
  {
   "cell_type": "markdown",
   "metadata": {},
   "source": [
    "### Exercise 2 - Write a Python class which has two methods get_String and print_String. get_String accept a string from the user and print_String print the string in upper case"
   ]
  },
  {
   "cell_type": "code",
   "execution_count": 31,
   "metadata": {},
   "outputs": [
    {
     "name": "stdout",
     "output_type": "stream",
     "text": [
      "please type something \n",
      "something\n",
      "SOMETHING\n"
     ]
    }
   ],
   "source": [
    "class String():\n",
    "    def __init__(self):\n",
    "        self.string = \"\"\n",
    "\n",
    "    def get_String(self):\n",
    "        self.string = input(\"please type something \\n\").strip()\n",
    "\n",
    "    def print_String(self):\n",
    "        print(self.string.upper())\n",
    "\n",
    "str1 = String()\n",
    "str1.get_String()\n",
    "str1.print_String()"
   ]
  },
  {
   "cell_type": "code",
   "execution_count": null,
   "metadata": {},
   "outputs": [],
   "source": []
  }
 ],
 "metadata": {
  "kernelspec": {
   "display_name": "Python 3 (ipykernel)",
   "language": "python",
   "name": "python3"
  },
  "language_info": {
   "codemirror_mode": {
    "name": "ipython",
    "version": 3
   },
   "file_extension": ".py",
   "mimetype": "text/x-python",
   "name": "python",
   "nbconvert_exporter": "python",
   "pygments_lexer": "ipython3",
   "version": "3.9.12"
  }
 },
 "nbformat": 4,
 "nbformat_minor": 2
}
